{
 "cells": [
  {
   "cell_type": "markdown",
   "id": "ee63cf62-6df9-49d5-a1a9-2f0323141a9d",
   "metadata": {},
   "source": [
    "## Assertions vs Raising Exceptions\n",
    "\n",
    "- we should raise **exceptions** when we are checking inputs to our function. Ie we are checking to make sure the function is working properly.\n",
    "- We should use **assertions** to make sure the function operates as expected for given input. This is almost always in a testing context."
   ]
  },
  {
   "cell_type": "code",
   "execution_count": 2,
   "id": "c54b7e42-4691-434c-b599-66afae1009a2",
   "metadata": {},
   "outputs": [
    {
     "name": "stdout",
     "output_type": "stream",
     "text": [
      "============================= test session starts =============================\n",
      "platform win32 -- Python 3.8.11, pytest-6.2.4, py-1.10.0, pluggy-0.13.1 -- C:\\Users\\Vivek\\anaconda3\\python.exe\n",
      "cachedir: .pytest_cache\n",
      "rootdir: C:\\Users\\Vivek\\git\\bootcamp\n",
      "plugins: anyio-2.2.0\n",
      "collecting ... collected 5 items\n",
      "\n",
      "test_seq_features.py::test_number_negatives_for_single_AA PASSED         [ 20%]\n",
      "test_seq_features.py::test_number_negatives_for_empty PASSED             [ 40%]\n",
      "test_seq_features.py::test_number_negatives_for_short_sequence PASSED    [ 60%]\n",
      "test_seq_features.py::test_number_negatives_for_lowercase PASSED         [ 80%]\n",
      "test_seq_features.py::test_number_negatives_for_invalid_amino_acid FAILED [100%]\n",
      "\n",
      "================================== FAILURES ===================================\n",
      "________________ test_number_negatives_for_invalid_amino_acid _________________\n",
      "\n",
      "    def test_number_negatives_for_invalid_amino_acid():\n",
      "        with pytest.raises(RuntimeError) as excinfo:\n",
      ">           sf.number_negatives('Z')\n",
      "E           Failed: DID NOT RAISE <class 'RuntimeError'>\n",
      "\n",
      "test_seq_features.py:27: Failed\n",
      "============================== warnings summary ===============================\n",
      "..\\..\\anaconda3\\lib\\site-packages\\pyreadline\\py3k_compat.py:8\n",
      "  C:\\Users\\Vivek\\anaconda3\\lib\\site-packages\\pyreadline\\py3k_compat.py:8: DeprecationWarning: Using or importing the ABCs from 'collections' instead of from 'collections.abc' is deprecated since Python 3.3, and in 3.10 it will stop working\n",
      "    return isinstance(x, collections.Callable)\n",
      "\n",
      "-- Docs: https://docs.pytest.org/en/stable/warnings.html\n",
      "=========================== short test summary info ===========================\n",
      "FAILED test_seq_features.py::test_number_negatives_for_invalid_amino_acid - F...\n",
      "=================== 1 failed, 4 passed, 1 warning in 0.23s ====================\n"
     ]
    }
   ],
   "source": [
    "!pytest -v\n",
    "#raise runtime error not in seq_features.py; originally did not work"
   ]
  },
  {
   "cell_type": "code",
   "execution_count": 4,
   "id": "91ab7d45-1b8a-4aac-93d2-f77148081741",
   "metadata": {},
   "outputs": [
    {
     "name": "stdout",
     "output_type": "stream",
     "text": [
      "============================= test session starts =============================\n",
      "platform win32 -- Python 3.8.11, pytest-6.2.4, py-1.10.0, pluggy-0.13.1 -- C:\\Users\\Vivek\\anaconda3\\python.exe\n",
      "cachedir: .pytest_cache\n",
      "rootdir: C:\\Users\\Vivek\\git\\bootcamp\n",
      "plugins: anyio-2.2.0\n",
      "collecting ... collected 5 items\n",
      "\n",
      "test_seq_features.py::test_number_negatives_for_single_AA PASSED         [ 20%]\n",
      "test_seq_features.py::test_number_negatives_for_empty PASSED             [ 40%]\n",
      "test_seq_features.py::test_number_negatives_for_short_sequence PASSED    [ 60%]\n",
      "test_seq_features.py::test_number_negatives_for_lowercase PASSED         [ 80%]\n",
      "test_seq_features.py::test_number_negatives_for_invalid_amino_acid PASSED [100%]\n",
      "\n",
      "============================== warnings summary ===============================\n",
      "..\\..\\anaconda3\\lib\\site-packages\\pyreadline\\py3k_compat.py:8\n",
      "  C:\\Users\\Vivek\\anaconda3\\lib\\site-packages\\pyreadline\\py3k_compat.py:8: DeprecationWarning: Using or importing the ABCs from 'collections' instead of from 'collections.abc' is deprecated since Python 3.3, and in 3.10 it will stop working\n",
      "    return isinstance(x, collections.Callable)\n",
      "\n",
      "-- Docs: https://docs.pytest.org/en/stable/warnings.html\n",
      "======================== 5 passed, 1 warning in 0.16s =========================\n"
     ]
    }
   ],
   "source": [
    "!pytest -v\n",
    "#seq_features.py has raise runtime error"
   ]
  },
  {
   "cell_type": "code",
   "execution_count": 14,
   "id": "6125f8fe-3091-4d39-a806-890519d651cd",
   "metadata": {},
   "outputs": [
    {
     "name": "stdout",
     "output_type": "stream",
     "text": [
      "============================= test session starts =============================\n",
      "platform win32 -- Python 3.8.11, pytest-6.2.4, py-1.10.0, pluggy-0.13.1 -- C:\\Users\\Vivek\\anaconda3\\python.exe\n",
      "cachedir: .pytest_cache\n",
      "rootdir: C:\\Users\\Vivek\\git\\bootcamp\n",
      "plugins: anyio-2.2.0\n",
      "collecting ... collected 5 items\n",
      "\n",
      "test_seq_features.py::test_number_negatives_for_single_AA PASSED         [ 20%]\n",
      "test_seq_features.py::test_number_negatives_for_empty PASSED             [ 40%]\n",
      "test_seq_features.py::test_number_negatives_for_short_sequence PASSED    [ 60%]\n",
      "test_seq_features.py::test_number_negatives_for_lowercase PASSED         [ 80%]\n",
      "test_seq_features.py::test_number_negatives_for_invalid_amino_acid PASSED [100%]\n",
      "\n",
      "============================== warnings summary ===============================\n",
      "..\\..\\anaconda3\\lib\\site-packages\\pyreadline\\py3k_compat.py:8\n",
      "  C:\\Users\\Vivek\\anaconda3\\lib\\site-packages\\pyreadline\\py3k_compat.py:8: DeprecationWarning: Using or importing the ABCs from 'collections' instead of from 'collections.abc' is deprecated since Python 3.3, and in 3.10 it will stop working\n",
      "    return isinstance(x, collections.Callable)\n",
      "\n",
      "-- Docs: https://docs.pytest.org/en/stable/warnings.html\n",
      "======================== 5 passed, 1 warning in 0.16s =========================\n"
     ]
    }
   ],
   "source": [
    "#now runtime error accounts for all amino acids\n",
    "#replaced bootcamp_utils w/ bioinfo_dicts because it's a fucking bitch\n",
    "!pytest -v"
   ]
  },
  {
   "cell_type": "markdown",
   "id": "db12a355-3b09-4b18-b33d-6fd22bdf3261",
   "metadata": {
    "tags": []
   },
   "source": [
    "## Summary of TDD\n",
    "\n",
    "Now that you have some experience with TDD and have an idea about what it is and how it works, let’s formalize things by writing out the basic principles of test-driven development.\n",
    "\n",
    "1. Build your software out of **small functions** that do **one specific thing.**\n",
    "2. Build unit tests for all of your functions.\n",
    "3. Whenever you want to make any enhancements of adjustments to your code, write tests for it **first.**\n",
    "4. Whenever you encounter a bug, write tests for it that reproduce the behavior and then fix the code to make the entire test suite to pass.\n",
    "\n",
    "## Improving the seq_features module using TDD: Practice\n",
    "\n",
    "Now write a function that will calculate the total number of positively charged residues in a protein. In other words, let’s count the number of Lysine (K), Arginine (R) and Histidine (H) residues in the sequence."
   ]
  },
  {
   "cell_type": "code",
   "execution_count": 16,
   "id": "eb92f17d-12b2-4030-906e-0d2e5c43e1b2",
   "metadata": {},
   "outputs": [
    {
     "name": "stdout",
     "output_type": "stream",
     "text": [
      "============================= test session starts =============================\n",
      "platform win32 -- Python 3.8.11, pytest-6.2.4, py-1.10.0, pluggy-0.13.1 -- C:\\Users\\Vivek\\anaconda3\\python.exe\n",
      "cachedir: .pytest_cache\n",
      "rootdir: C:\\Users\\Vivek\\git\\bootcamp\n",
      "plugins: anyio-2.2.0\n",
      "collecting ... collected 6 items\n",
      "\n",
      "test_seq_features.py::test_number_negatives_for_single_AA PASSED         [ 16%]\n",
      "test_seq_features.py::test_number_negatives_for_empty PASSED             [ 33%]\n",
      "test_seq_features.py::test_number_negatives_for_short_sequence PASSED    [ 50%]\n",
      "test_seq_features.py::test_number_negatives_for_lowercase PASSED         [ 66%]\n",
      "test_seq_features.py::test_number_negatives_for_invalid_amino_acid PASSED [ 83%]\n",
      "test_seq_features.py::test_number_positives_single_R_K_or_H FAILED       [100%]\n",
      "\n",
      "================================== FAILURES ===================================\n",
      "____________________ test_number_positives_single_R_K_or_H ____________________\n",
      "\n",
      "    def test_number_positives_single_R_K_or_H():\n",
      ">       assert sf.number_positives('R') == 1\n",
      "E       assert None == 1\n",
      "E         +None\n",
      "E         -1\n",
      "\n",
      "test_seq_features.py:31: AssertionError\n",
      "============================== warnings summary ===============================\n",
      "..\\..\\anaconda3\\lib\\site-packages\\pyreadline\\py3k_compat.py:8\n",
      "  C:\\Users\\Vivek\\anaconda3\\lib\\site-packages\\pyreadline\\py3k_compat.py:8: DeprecationWarning: Using or importing the ABCs from 'collections' instead of from 'collections.abc' is deprecated since Python 3.3, and in 3.10 it will stop working\n",
      "    return isinstance(x, collections.Callable)\n",
      "\n",
      "-- Docs: https://docs.pytest.org/en/stable/warnings.html\n",
      "=========================== short test summary info ===========================\n",
      "FAILED test_seq_features.py::test_number_positives_single_R_K_or_H - assert N...\n",
      "=================== 1 failed, 5 passed, 1 warning in 0.25s ====================\n"
     ]
    }
   ],
   "source": [
    "#generated prototype function for seq_features and respective test function in test_seq_features\n",
    "!pytest -v"
   ]
  },
  {
   "cell_type": "code",
   "execution_count": 17,
   "id": "93dc2097-d919-4309-8d96-dfeaea02d99b",
   "metadata": {},
   "outputs": [
    {
     "name": "stdout",
     "output_type": "stream",
     "text": [
      "============================= test session starts =============================\n",
      "platform win32 -- Python 3.8.11, pytest-6.2.4, py-1.10.0, pluggy-0.13.1 -- C:\\Users\\Vivek\\anaconda3\\python.exe\n",
      "cachedir: .pytest_cache\n",
      "rootdir: C:\\Users\\Vivek\\git\\bootcamp\n",
      "plugins: anyio-2.2.0\n",
      "collecting ... collected 6 items\n",
      "\n",
      "test_seq_features.py::test_number_negatives_for_single_AA PASSED         [ 16%]\n",
      "test_seq_features.py::test_number_negatives_for_empty PASSED             [ 33%]\n",
      "test_seq_features.py::test_number_negatives_for_short_sequence PASSED    [ 50%]\n",
      "test_seq_features.py::test_number_negatives_for_lowercase PASSED         [ 66%]\n",
      "test_seq_features.py::test_number_negatives_for_invalid_amino_acid PASSED [ 83%]\n",
      "test_seq_features.py::test_number_positives_single_R_K_or_H PASSED       [100%]\n",
      "\n",
      "============================== warnings summary ===============================\n",
      "..\\..\\anaconda3\\lib\\site-packages\\pyreadline\\py3k_compat.py:8\n",
      "  C:\\Users\\Vivek\\anaconda3\\lib\\site-packages\\pyreadline\\py3k_compat.py:8: DeprecationWarning: Using or importing the ABCs from 'collections' instead of from 'collections.abc' is deprecated since Python 3.3, and in 3.10 it will stop working\n",
      "    return isinstance(x, collections.Callable)\n",
      "\n",
      "-- Docs: https://docs.pytest.org/en/stable/warnings.html\n",
      "======================== 6 passed, 1 warning in 0.17s =========================\n"
     ]
    }
   ],
   "source": [
    "#appended return variable for number_positives(seqs)\n",
    "!pytest -v"
   ]
  },
  {
   "cell_type": "code",
   "execution_count": 1,
   "id": "6ddd8a47-0cc2-43aa-9bd3-5fd9fdbe922a",
   "metadata": {},
   "outputs": [
    {
     "name": "stdout",
     "output_type": "stream",
     "text": [
      "============================= test session starts =============================\n",
      "platform win32 -- Python 3.8.11, pytest-6.2.4, py-1.10.0, pluggy-0.13.1 -- C:\\Users\\Vivek\\anaconda3\\python.exe\n",
      "cachedir: .pytest_cache\n",
      "rootdir: C:\\Users\\Vivek\\git\\bootcamp\n",
      "plugins: anyio-2.2.0\n",
      "collecting ... collected 10 items\n",
      "\n",
      "test_seq_features.py::test_number_negatives_for_single_AA PASSED         [ 10%]\n",
      "test_seq_features.py::test_number_negatives_for_empty PASSED             [ 20%]\n",
      "test_seq_features.py::test_number_negatives_for_short_sequence PASSED    [ 30%]\n",
      "test_seq_features.py::test_number_negatives_for_lowercase PASSED         [ 40%]\n",
      "test_seq_features.py::test_number_negatives_for_invalid_amino_acid PASSED [ 50%]\n",
      "test_seq_features.py::test_number_positives_single_R_K_or_H PASSED       [ 60%]\n",
      "test_seq_features.py::test_number_positives_for_empty PASSED             [ 70%]\n",
      "test_seq_features.py::test_number_positives_for_short_sequences PASSED   [ 80%]\n",
      "test_seq_features.py::test_number_positives_for_lowercase FAILED         [ 90%]\n",
      "test_seq_features.py::test_number_positives_for_invalid_amino_acid FAILED [100%]\n",
      "\n",
      "================================== FAILURES ===================================\n",
      "_____________________ test_number_positives_for_lowercase _____________________\n",
      "\n",
      "    def test_number_positives_for_lowercase():\n",
      "        '''Perform unit tests on number_positives for lowercase'''\n",
      ">       assert sf.number_positives('rcklwttre') == 3\n",
      "E       assert 0 == 3\n",
      "E         +0\n",
      "E         -3\n",
      "\n",
      "test_seq_features.py:47: AssertionError\n",
      "________________ test_number_positives_for_invalid_amino_acid _________________\n",
      "\n",
      "    def test_number_positives_for_invalid_amino_acid():\n",
      "        with pytest.raises(RuntimeError) as excinfo:\n",
      ">           sf.number_positives('Z')\n",
      "E           Failed: DID NOT RAISE <class 'RuntimeError'>\n",
      "\n",
      "test_seq_features.py:51: Failed\n",
      "============================== warnings summary ===============================\n",
      "..\\..\\anaconda3\\lib\\site-packages\\pyreadline\\py3k_compat.py:8\n",
      "  C:\\Users\\Vivek\\anaconda3\\lib\\site-packages\\pyreadline\\py3k_compat.py:8: DeprecationWarning: Using or importing the ABCs from 'collections' instead of from 'collections.abc' is deprecated since Python 3.3, and in 3.10 it will stop working\n",
      "    return isinstance(x, collections.Callable)\n",
      "\n",
      "-- Docs: https://docs.pytest.org/en/stable/warnings.html\n",
      "=========================== short test summary info ===========================\n",
      "FAILED test_seq_features.py::test_number_positives_for_lowercase - assert 0 == 3\n",
      "FAILED test_seq_features.py::test_number_positives_for_invalid_amino_acid - F...\n",
      "=================== 2 failed, 8 passed, 1 warning in 1.15s ====================\n"
     ]
    }
   ],
   "source": [
    "#added number_positive variants for test functions\n",
    "!pytest -v"
   ]
  },
  {
   "cell_type": "code",
   "execution_count": 3,
   "id": "acc2e49c-d461-4005-bd1e-446d282c422d",
   "metadata": {},
   "outputs": [
    {
     "name": "stdout",
     "output_type": "stream",
     "text": [
      "============================= test session starts =============================\n",
      "platform win32 -- Python 3.8.11, pytest-6.2.4, py-1.10.0, pluggy-0.13.1 -- C:\\Users\\Vivek\\anaconda3\\python.exe\n",
      "cachedir: .pytest_cache\n",
      "rootdir: C:\\Users\\Vivek\\git\\bootcamp\n",
      "plugins: anyio-2.2.0\n",
      "collecting ... collected 10 items\n",
      "\n",
      "test_seq_features.py::test_number_negatives_for_single_AA PASSED         [ 10%]\n",
      "test_seq_features.py::test_number_negatives_for_empty PASSED             [ 20%]\n",
      "test_seq_features.py::test_number_negatives_for_short_sequence PASSED    [ 30%]\n",
      "test_seq_features.py::test_number_negatives_for_lowercase PASSED         [ 40%]\n",
      "test_seq_features.py::test_number_negatives_for_invalid_amino_acid PASSED [ 50%]\n",
      "test_seq_features.py::test_number_positives_single_R_K_or_H PASSED       [ 60%]\n",
      "test_seq_features.py::test_number_positives_for_empty PASSED             [ 70%]\n",
      "test_seq_features.py::test_number_positives_for_short_sequences PASSED   [ 80%]\n",
      "test_seq_features.py::test_number_positives_for_lowercase PASSED         [ 90%]\n",
      "test_seq_features.py::test_number_positives_for_invalid_amino_acid PASSED [100%]\n",
      "\n",
      "============================== warnings summary ===============================\n",
      "..\\..\\anaconda3\\lib\\site-packages\\pyreadline\\py3k_compat.py:8\n",
      "  C:\\Users\\Vivek\\anaconda3\\lib\\site-packages\\pyreadline\\py3k_compat.py:8: DeprecationWarning: Using or importing the ABCs from 'collections' instead of from 'collections.abc' is deprecated since Python 3.3, and in 3.10 it will stop working\n",
      "    return isinstance(x, collections.Callable)\n",
      "\n",
      "-- Docs: https://docs.pytest.org/en/stable/warnings.html\n",
      "======================== 10 passed, 1 warning in 0.70s ========================\n"
     ]
    }
   ],
   "source": [
    "#update number_positives to handle failed cases\n",
    "!pytest -v"
   ]
  },
  {
   "cell_type": "markdown",
   "id": "9a646283-7d06-406c-8c55-76d4df798b40",
   "metadata": {},
   "source": [
    "## Code refactoring and TDD\n",
    "As we are building modules and functions, though we may try, we are not able to anticipate all the functionalities they must have. And by adding new functionalities, we might need to change our code substantially and even dramatically change the initial logic that worked so well up to this point. This is so common in programming that developers have a name for it: code refactoring.\n",
    "\n",
    "For example, we did not anticipate when we start writing `seq_features` that we also wanted to calculate the positive charges as well. Beyond that, we broke one of the most important rules in programming: functions must do one thing and only one thing very well. It is clear that `number_negatives()` was doing three things:\n",
    "\n",
    "1. Dealing with lowercases characters.\n",
    "2. Raising exceptions for invalid amino-acids in the input sequence.\n",
    "3. Calculating the negative charge of amino-acids.\n",
    "\n",
    "Turns out that `number_positives()` also needs to do items 1 and 2, and because of that we have repeated the following lines of code in two different functions, within the same module:\n",
    "```python\n",
    "# Convert sequence to upper case\n",
    " seq = seq.upper()\n",
    "\n",
    " # Check for a valid sequence\n",
    " for aa in seq:\n",
    "     if aa not in bootcamp_utils.aa.keys():\n",
    "         raise RuntimeError(aa + ' is not a valid amino acid.')\n",
    "```\n",
    "and if we are trying to make this module more robust, every time we catch a bug, we will need to change identical code in two places. So let’s perform a code refactoring in order to keep the principle of functions doing only one thing as close to the truth as possible.\n",
    "\n",
    "The first task, changing the inputted sequence to uppercase, uses a built-in Python function, and using another function to do this is unnessary. So, we can keep the `seq = seq.upper()` line in the functions.\n",
    "\n",
    "Now, let’s write a functions that will check if the sequence is valid. That way we will focus all the logic related to checking for invalid sequences in one part of the code, and we can call it anywhere we need afterwards. So, your module `seq_features.py` should look like this:\n",
    "```python\n",
    "def is_valid_sequence(seq):\n",
    "    for aa in seq:\n",
    "        if aa not in bootcamp_utils.aa.keys():\n",
    "            raise RuntimeError(aa + ' is not a valid amino acid.')\n",
    "```         "
   ]
  },
  {
   "cell_type": "code",
   "execution_count": 4,
   "id": "c2067e67-447d-42cb-b763-88e23d6e4ab0",
   "metadata": {},
   "outputs": [
    {
     "name": "stdout",
     "output_type": "stream",
     "text": [
      "============================= test session starts =============================\n",
      "platform win32 -- Python 3.8.11, pytest-6.2.4, py-1.10.0, pluggy-0.13.1 -- C:\\Users\\Vivek\\anaconda3\\python.exe\n",
      "cachedir: .pytest_cache\n",
      "rootdir: C:\\Users\\Vivek\\git\\bootcamp\n",
      "plugins: anyio-2.2.0\n",
      "collecting ... collected 12 items\n",
      "\n",
      "test_seq_features.py::test_number_negatives_for_single_AA PASSED         [  8%]\n",
      "test_seq_features.py::test_number_negatives_for_empty PASSED             [ 16%]\n",
      "test_seq_features.py::test_number_negatives_for_short_sequence PASSED    [ 25%]\n",
      "test_seq_features.py::test_number_negatives_for_lowercase PASSED         [ 33%]\n",
      "test_seq_features.py::test_number_negatives_for_invalid_amino_acid PASSED [ 41%]\n",
      "test_seq_features.py::test_number_positives_single_R_K_or_H PASSED       [ 50%]\n",
      "test_seq_features.py::test_number_positives_for_empty PASSED             [ 58%]\n",
      "test_seq_features.py::test_number_positives_for_short_sequences PASSED   [ 66%]\n",
      "test_seq_features.py::test_number_positives_for_lowercase PASSED         [ 75%]\n",
      "test_seq_features.py::test_number_positives_for_invalid_amino_acid PASSED [ 83%]\n",
      "test_seq_features.py::test_number_positives_for_invalid_amino_acid_anywhere PASSED [ 91%]\n",
      "test_seq_features.py::test_number_negatives_for_invalid_amino_acid_anywhere PASSED [100%]\n",
      "\n",
      "============================== warnings summary ===============================\n",
      "..\\..\\anaconda3\\lib\\site-packages\\pyreadline\\py3k_compat.py:8\n",
      "  C:\\Users\\Vivek\\anaconda3\\lib\\site-packages\\pyreadline\\py3k_compat.py:8: DeprecationWarning: Using or importing the ABCs from 'collections' instead of from 'collections.abc' is deprecated since Python 3.3, and in 3.10 it will stop working\n",
      "    return isinstance(x, collections.Callable)\n",
      "\n",
      "-- Docs: https://docs.pytest.org/en/stable/warnings.html\n",
      "======================== 12 passed, 1 warning in 0.89s ========================\n"
     ]
    }
   ],
   "source": [
    "#define function is_valid_sequence and add two test features \n",
    "!pytest -v"
   ]
  },
  {
   "cell_type": "markdown",
   "id": "5468ef60-5148-40d2-9f1d-d821aa44a26f",
   "metadata": {},
   "source": [
    "refactoring tests is frowned upon and taken VERY seriously by developers; it is a very big responsibility and should be done carefully if ever. Keep on adding tests related to `is_valid_sequence()`, but do not remove the previous tests already in the suite.\n",
    "\n",
    "So, let’s add the exception tests for `is_valid_sequence()` in `test_seq_features.py`:"
   ]
  },
  {
   "cell_type": "code",
   "execution_count": 5,
   "id": "4834ab93-572f-4e97-a9b9-c9cf9111fc87",
   "metadata": {},
   "outputs": [
    {
     "name": "stdout",
     "output_type": "stream",
     "text": [
      "============================= test session starts =============================\n",
      "platform win32 -- Python 3.8.11, pytest-6.2.4, py-1.10.0, pluggy-0.13.1 -- C:\\Users\\Vivek\\anaconda3\\python.exe\n",
      "cachedir: .pytest_cache\n",
      "rootdir: C:\\Users\\Vivek\\git\\bootcamp\n",
      "plugins: anyio-2.2.0\n",
      "collecting ... collected 14 items\n",
      "\n",
      "test_seq_features.py::test_number_negatives_for_single_AA PASSED         [  7%]\n",
      "test_seq_features.py::test_number_negatives_for_empty PASSED             [ 14%]\n",
      "test_seq_features.py::test_number_negatives_for_short_sequence PASSED    [ 21%]\n",
      "test_seq_features.py::test_number_negatives_for_lowercase PASSED         [ 28%]\n",
      "test_seq_features.py::test_number_negatives_for_invalid_amino_acid PASSED [ 35%]\n",
      "test_seq_features.py::test_number_positives_single_R_K_or_H PASSED       [ 42%]\n",
      "test_seq_features.py::test_number_positives_for_empty PASSED             [ 50%]\n",
      "test_seq_features.py::test_number_positives_for_short_sequences PASSED   [ 57%]\n",
      "test_seq_features.py::test_number_positives_for_lowercase PASSED         [ 64%]\n",
      "test_seq_features.py::test_number_positives_for_invalid_amino_acid PASSED [ 71%]\n",
      "test_seq_features.py::test_number_positives_for_invalid_amino_acid_anywhere PASSED [ 78%]\n",
      "test_seq_features.py::test_number_negatives_for_invalid_amino_acid_anywhere PASSED [ 85%]\n",
      "test_seq_features.py::test_is_valid_sequence_for_invalid_amino_acid PASSED [ 92%]\n",
      "test_seq_features.py::test_is_valid_sequence_for_invalid_amino_acid_anywhere PASSED [100%]\n",
      "\n",
      "============================== warnings summary ===============================\n",
      "..\\..\\anaconda3\\lib\\site-packages\\pyreadline\\py3k_compat.py:8\n",
      "  C:\\Users\\Vivek\\anaconda3\\lib\\site-packages\\pyreadline\\py3k_compat.py:8: DeprecationWarning: Using or importing the ABCs from 'collections' instead of from 'collections.abc' is deprecated since Python 3.3, and in 3.10 it will stop working\n",
      "    return isinstance(x, collections.Callable)\n",
      "\n",
      "-- Docs: https://docs.pytest.org/en/stable/warnings.html\n",
      "======================== 14 passed, 1 warning in 0.99s ========================\n"
     ]
    }
   ],
   "source": [
    "#add two tests for is_valid_sequence\n",
    "!pytest -v"
   ]
  },
  {
   "cell_type": "code",
   "execution_count": 7,
   "id": "d94e5c74-e375-4c02-b856-af267dab41a0",
   "metadata": {},
   "outputs": [
    {
     "name": "stdout",
     "output_type": "stream",
     "text": [
      "============================= test session starts =============================\n",
      "platform win32 -- Python 3.8.11, pytest-6.2.4, py-1.10.0, pluggy-0.13.1 -- C:\\Users\\Vivek\\anaconda3\\python.exe\n",
      "cachedir: .pytest_cache\n",
      "rootdir: C:\\Users\\Vivek\\git\\bootcamp\n",
      "plugins: anyio-2.2.0\n",
      "collecting ... collected 15 items\n",
      "\n",
      "test_seq_features.py::test_number_negatives_for_single_AA PASSED         [  6%]\n",
      "test_seq_features.py::test_number_negatives_for_empty PASSED             [ 13%]\n",
      "test_seq_features.py::test_number_negatives_for_short_sequence PASSED    [ 20%]\n",
      "test_seq_features.py::test_number_negatives_for_lowercase PASSED         [ 26%]\n",
      "test_seq_features.py::test_number_negatives_for_invalid_amino_acid PASSED [ 33%]\n",
      "test_seq_features.py::test_number_positives_single_R_K_or_H PASSED       [ 40%]\n",
      "test_seq_features.py::test_number_positives_for_empty PASSED             [ 46%]\n",
      "test_seq_features.py::test_number_positives_for_short_sequences PASSED   [ 53%]\n",
      "test_seq_features.py::test_number_positives_for_lowercase PASSED         [ 60%]\n",
      "test_seq_features.py::test_number_positives_for_invalid_amino_acid PASSED [ 66%]\n",
      "test_seq_features.py::test_number_positives_for_invalid_amino_acid_anywhere PASSED [ 73%]\n",
      "test_seq_features.py::test_number_negatives_for_invalid_amino_acid_anywhere PASSED [ 80%]\n",
      "test_seq_features.py::test_is_valid_sequence_for_invalid_amino_acid PASSED [ 86%]\n",
      "test_seq_features.py::test_is_valid_sequence_for_invalid_amino_acid_anywhere PASSED [ 93%]\n",
      "test_seq_features.py::test_is_valid_sequence_for_other_invalid_amino_acid_anywhere PASSED [100%]\n",
      "\n",
      "============================== warnings summary ===============================\n",
      "..\\..\\anaconda3\\lib\\site-packages\\pyreadline\\py3k_compat.py:8\n",
      "  C:\\Users\\Vivek\\anaconda3\\lib\\site-packages\\pyreadline\\py3k_compat.py:8: DeprecationWarning: Using or importing the ABCs from 'collections' instead of from 'collections.abc' is deprecated since Python 3.3, and in 3.10 it will stop working\n",
      "    return isinstance(x, collections.Callable)\n",
      "\n",
      "-- Docs: https://docs.pytest.org/en/stable/warnings.html\n",
      "======================== 15 passed, 1 warning in 0.20s ========================\n"
     ]
    }
   ],
   "source": [
    "#add larger encompassing test for is_valid_sequence\n",
    "!pytest -v test_seq_features.py"
   ]
  },
  {
   "cell_type": "code",
   "execution_count": 9,
   "id": "e269e919-dc4c-4de4-ba2b-e4f273b17e07",
   "metadata": {},
   "outputs": [
    {
     "name": "stdout",
     "output_type": "stream",
     "text": [
      "The watermark extension is already loaded. To reload it, use:\n",
      "  %reload_ext watermark\n",
      "Python implementation: CPython\n",
      "Python version       : 3.8.11\n",
      "IPython version      : 7.27.0\n",
      "\n",
      "bioinfo_dicts: unknown\n",
      "pytest       : 6.2.4\n",
      "jupyterlab   : 3.1.7\n",
      "\n"
     ]
    }
   ],
   "source": [
    "%load_ext watermark\n",
    "%watermark -v -p bioinfo_dicts,pytest,jupyterlab"
   ]
  },
  {
   "cell_type": "code",
   "execution_count": null,
   "id": "e5196b47-b6b5-4ad6-a1bc-e2bbb527d230",
   "metadata": {},
   "outputs": [],
   "source": []
  }
 ],
 "metadata": {
  "kernelspec": {
   "display_name": "bioenv",
   "language": "python",
   "name": "bioenv"
  },
  "language_info": {
   "codemirror_mode": {
    "name": "ipython",
    "version": 3
   },
   "file_extension": ".py",
   "mimetype": "text/x-python",
   "name": "python",
   "nbconvert_exporter": "python",
   "pygments_lexer": "ipython3",
   "version": "3.8.11"
  }
 },
 "nbformat": 4,
 "nbformat_minor": 5
}
