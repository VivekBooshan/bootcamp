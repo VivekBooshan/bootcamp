{
 "cells": [
  {
   "cell_type": "markdown",
   "id": "08bd886b-6897-4d63-a88d-0c43f80f0656",
   "metadata": {},
   "source": [
    "## Count"
   ]
  },
  {
   "cell_type": "code",
   "execution_count": 1,
   "id": "4da4b087-e8bf-4391-8a3c-df36bdf44e67",
   "metadata": {},
   "outputs": [
    {
     "data": {
      "text/plain": [
       "16"
      ]
     },
     "execution_count": 1,
     "metadata": {},
     "output_type": "execute_result"
    }
   ],
   "source": [
    "# Define sequence\n",
    "seq = 'GACAGACUCCAUGCACGUGGGUAUCAUGUC'\n",
    "\n",
    "# Count G's and C's\n",
    "seq.count('G') + seq.count('C')"
   ]
  },
  {
   "cell_type": "code",
   "execution_count": 2,
   "id": "9843a026-c93f-4cea-82a3-b31fa4ee0254",
   "metadata": {},
   "outputs": [
    {
     "name": "stdout",
     "output_type": "stream",
     "text": [
      "2\n",
      "3\n",
      "0\n"
     ]
    }
   ],
   "source": [
    "# Substrings of more than one characater\n",
    "print(seq.count('GAC'))\n",
    "# Substrings cannot overlap\n",
    "print('AAAAAAA'.count('AA'))\n",
    "# Something that's not there.\n",
    "print(seq.count('nonsense'))"
   ]
  },
  {
   "cell_type": "markdown",
   "id": "f87ae0bf-de15-4d85-9e67-b9a7ea25c464",
   "metadata": {},
   "source": [
    "## Indexing"
   ]
  },
  {
   "cell_type": "code",
   "execution_count": 4,
   "id": "88043344-5a0c-419b-bb49-e69fd559f453",
   "metadata": {},
   "outputs": [
    {
     "name": "stdout",
     "output_type": "stream",
     "text": [
      "10\n",
      "-1\n"
     ]
    },
    {
     "data": {
      "text/plain": [
       "True"
      ]
     },
     "execution_count": 4,
     "metadata": {},
     "output_type": "execute_result"
    }
   ],
   "source": [
    "print(seq.find('AUG'))\n",
    "print(seq.find('nonsense'))\n",
    "'use in for testing existence'\n",
    "'AUG' in seq"
   ]
  },
  {
   "cell_type": "markdown",
   "id": "17b3b250-4aa4-4dc9-88f6-e8b2f37bdd38",
   "metadata": {},
   "source": [
    "## Right Hand Indexing\n",
    "\n",
    "find the last instance of the start codon"
   ]
  },
  {
   "cell_type": "code",
   "execution_count": 5,
   "id": "cbb6af26-f5b5-439e-bd0c-f72fc585b1bc",
   "metadata": {},
   "outputs": [
    {
     "data": {
      "text/plain": [
       "25"
      ]
     },
     "execution_count": 5,
     "metadata": {},
     "output_type": "execute_result"
    }
   ],
   "source": [
    "seq.rfind('AUG')"
   ]
  },
  {
   "cell_type": "code",
   "execution_count": 6,
   "id": "acd5d060-11a2-466e-9bea-bbe23ed31955",
   "metadata": {},
   "outputs": [],
   "source": [
    "def complement_base(base):\n",
    "    \"\"\"Returns the Watson-Crick complement of a base.\"\"\"\n",
    "    # Convert to lowercase\n",
    "    base = base.lower()\n",
    "\n",
    "    if base == 'a':\n",
    "        return 'T'\n",
    "    elif base == 't':\n",
    "        return 'A'\n",
    "    elif base == 'g':\n",
    "        return 'C'\n",
    "    else:\n",
    "        return 'G'"
   ]
  },
  {
   "cell_type": "markdown",
   "id": "38cd2b0d-4be6-4998-9e88-55a0ba7f07f8",
   "metadata": {},
   "source": [
    "## RNA --> DNA"
   ]
  },
  {
   "cell_type": "code",
   "execution_count": 8,
   "id": "f4404759-db8b-4ae1-b2a2-1aec5ed5b31d",
   "metadata": {},
   "outputs": [
    {
     "name": "stdout",
     "output_type": "stream",
     "text": [
      "GACAGACTCCATGCACGTGGGTATCATGTC\n"
     ]
    },
    {
     "data": {
      "text/plain": [
       "'GACAGACUCCAUGCACGUGGGUAUCAUGUC'"
      ]
     },
     "execution_count": 8,
     "metadata": {},
     "output_type": "execute_result"
    }
   ],
   "source": [
    "print(seq.replace('U', 'T'))\n",
    "seq"
   ]
  },
  {
   "cell_type": "markdown",
   "id": "99c769c0-84e5-44f2-8d51-5161990434a3",
   "metadata": {},
   "source": [
    "## Format methods"
   ]
  },
  {
   "cell_type": "code",
   "execution_count": 9,
   "id": "05aaebd6-b50a-459c-ac9d-3b1954341b25",
   "metadata": {},
   "outputs": [
    {
     "name": "stdout",
     "output_type": "stream",
     "text": [
      "There are 50 states in the US.\n",
      "Your file number is 23.\n",
      "π is approximately 3.140000.\n",
      "e is approximately 2.71828183.\n",
      "Avogadro's number is approximately 6.022000e+23.\n",
      "ε₀ is approximately 8.8541878170000005e-12 F/m.\n",
      "That rug really tied the room together.\n"
     ]
    }
   ],
   "source": [
    "print('There are {n:d} states in the US.'.format(n=50))\n",
    "print('Your file number is {n:d}.'.format(n=23))\n",
    "print('π is approximately {pi:f}.'.format(pi=3.14))\n",
    "print('e is approximately {e:.8f}.'.format(e=2.7182818284590451))\n",
    "print(\"Avogadro's number is approximately {N_A:e}.\".format(N_A=6.022e23))\n",
    "print('ε₀ is approximately {eps_0:.16e} F/m.'.format(eps_0=8.854187817e-12))\n",
    "print('That {thing:s} really tied the room together.'.format(thing='rug'))"
   ]
  },
  {
   "cell_type": "markdown",
   "id": "9e373069-d3aa-48bd-be55-b4f9d3b00672",
   "metadata": {},
   "source": [
    "## f-strings"
   ]
  },
  {
   "cell_type": "code",
   "execution_count": 10,
   "id": "b6edc9cf-9109-4290-a24d-e8ae497157ff",
   "metadata": {},
   "outputs": [
    {
     "name": "stdout",
     "output_type": "stream",
     "text": [
      "There are 50 states in the US.\n",
      "Your file number is 23.\n",
      "π is approximately 3.14.\n",
      "e is approximately 2.71828183.\n",
      "Avogadro's number is approximately 6.022e+23.\n",
      "ε₀ is approximately 8.854187817e-12 F/m.\n",
      "That rug really tied the room together.\n"
     ]
    }
   ],
   "source": [
    "n_states = 50\n",
    "file_number = 23\n",
    "pi = 3.14\n",
    "e = 2.7182818284590451\n",
    "N_A = 6.022e23\n",
    "eps_0=8.854187817e-12\n",
    "thing = 'rug'\n",
    "\n",
    "print(f'There are {n_states} states in the US.')\n",
    "print(f'Your file number is {file_number}.')\n",
    "print(f'π is approximately {pi}.')\n",
    "print(f'e is approximately {e:.8f}.')\n",
    "print(f\"Avogadro's number is approximately {N_A}.\")\n",
    "print(f'ε₀ is approximately {eps_0} F/m.')\n",
    "print(f'That {thing} really tied the room together.')"
   ]
  },
  {
   "cell_type": "code",
   "execution_count": 11,
   "id": "5f4cd6cc-d8f3-4948-b22c-5f9f3a83da9a",
   "metadata": {},
   "outputs": [
    {
     "name": "stdout",
     "output_type": "stream",
     "text": [
      "Python implementation: CPython\n",
      "Python version       : 3.8.11\n",
      "IPython version      : 7.27.0\n",
      "\n",
      "jupyterlab: 3.1.7\n",
      "\n"
     ]
    }
   ],
   "source": [
    "%load_ext watermark\n",
    "%watermark -v -p jupyterlab"
   ]
  },
  {
   "cell_type": "code",
   "execution_count": null,
   "id": "56333f1a-1cad-4086-9167-53b9f108496f",
   "metadata": {},
   "outputs": [],
   "source": []
  }
 ],
 "metadata": {
  "kernelspec": {
   "display_name": "bioenv",
   "language": "python",
   "name": "bioenv"
  },
  "language_info": {
   "codemirror_mode": {
    "name": "ipython",
    "version": 3
   },
   "file_extension": ".py",
   "mimetype": "text/x-python",
   "name": "python",
   "nbconvert_exporter": "python",
   "pygments_lexer": "ipython3",
   "version": "3.8.11"
  }
 },
 "nbformat": 4,
 "nbformat_minor": 5
}
