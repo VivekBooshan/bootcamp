{
 "cells": [
  {
   "cell_type": "code",
   "execution_count": 14,
   "source": [
    "import os\r\n",
    "import glob"
   ],
   "outputs": [],
   "metadata": {}
  },
  {
   "cell_type": "code",
   "execution_count": 2,
   "source": [
    "with open('data/1OLG.pdb', 'r') as f:\r\n",
    "    print(type(f))"
   ],
   "outputs": [
    {
     "output_type": "stream",
     "name": "stdout",
     "text": [
      "<class '_io.TextIOWrapper'>\n"
     ]
    }
   ],
   "metadata": {}
  },
  {
   "cell_type": "code",
   "execution_count": 1,
   "source": [
    "# Read file into string\r\n",
    "with open('data/1OLG.pdb', 'r') as f:\r\n",
    "    f_str = f.read()\r\n",
    "\r\n",
    "# Let's look at the first 1000 characters\r\n",
    "f_str[:1000]"
   ],
   "outputs": [
    {
     "output_type": "execute_result",
     "data": {
      "text/plain": [
       "'HEADER    ANTI-ONCOGENE                           13-JUN-94   1OLG              \\nTITLE     HIGH-RESOLUTION SOLUTION STRUCTURE OF THE OLIGOMERIZATION             \\nTITLE    2 DOMAIN OF P53 BY MULTI-DIMENSIONAL NMR                               \\nCOMPND    MOL_ID: 1;                                                            \\nCOMPND   2 MOLECULE: TUMOR SUPPRESSOR P53 (OLIGOMERIZATION DOMAIN);             \\nCOMPND   3 CHAIN: A, B, C, D;                                                   \\nCOMPND   4 ENGINEERED: YES                                                      \\nSOURCE    MOL_ID: 1;                                                            \\nSOURCE   2 ORGANISM_SCIENTIFIC: HOMO SAPIENS;                                   \\nSOURCE   3 ORGANISM_COMMON: HUMAN;                                              \\nSOURCE   4 ORGANISM_TAXID: 9606                                                 \\nKEYWDS    ANTI-ONCOGENE                                                         \\nEXPDTA    SOLUTION NMR      '"
      ]
     },
     "metadata": {},
     "execution_count": 1
    }
   ],
   "metadata": {}
  },
  {
   "cell_type": "code",
   "execution_count": 2,
   "source": [
    "# Read contents of the file in as a list\r\n",
    "with open('data/1OLG.pdb', 'r') as f:\r\n",
    "    f_list = f.readlines()\r\n",
    "\r\n",
    "# Look at the list (first ten entries)\r\n",
    "f_list[:10]"
   ],
   "outputs": [
    {
     "output_type": "execute_result",
     "data": {
      "text/plain": [
       "['HEADER    ANTI-ONCOGENE                           13-JUN-94   1OLG              \\n',\n",
       " 'TITLE     HIGH-RESOLUTION SOLUTION STRUCTURE OF THE OLIGOMERIZATION             \\n',\n",
       " 'TITLE    2 DOMAIN OF P53 BY MULTI-DIMENSIONAL NMR                               \\n',\n",
       " 'COMPND    MOL_ID: 1;                                                            \\n',\n",
       " 'COMPND   2 MOLECULE: TUMOR SUPPRESSOR P53 (OLIGOMERIZATION DOMAIN);             \\n',\n",
       " 'COMPND   3 CHAIN: A, B, C, D;                                                   \\n',\n",
       " 'COMPND   4 ENGINEERED: YES                                                      \\n',\n",
       " 'SOURCE    MOL_ID: 1;                                                            \\n',\n",
       " 'SOURCE   2 ORGANISM_SCIENTIFIC: HOMO SAPIENS;                                   \\n',\n",
       " 'SOURCE   3 ORGANISM_COMMON: HUMAN;                                              \\n']"
      ]
     },
     "metadata": {},
     "execution_count": 2
    }
   ],
   "metadata": {}
  },
  {
   "cell_type": "code",
   "execution_count": 3,
   "source": [
    "#remove whitespace from end\r\n",
    "f_list[0].rstrip()"
   ],
   "outputs": [
    {
     "output_type": "execute_result",
     "data": {
      "text/plain": [
       "'HEADER    ANTI-ONCOGENE                           13-JUN-94   1OLG'"
      ]
     },
     "metadata": {},
     "execution_count": 3
    }
   ],
   "metadata": {}
  },
  {
   "cell_type": "code",
   "execution_count": 4,
   "source": [
    "#reads first 10 lines w/o reading file as list\r\n",
    "with open('data/1OLG.pdb', 'r') as f:\r\n",
    "    for i, line in enumerate(f):\r\n",
    "        print(line.strip())\r\n",
    "        if i >= 10:\r\n",
    "            break"
   ],
   "outputs": [
    {
     "output_type": "stream",
     "name": "stdout",
     "text": [
      "HEADER    ANTI-ONCOGENE                           13-JUN-94   1OLG\n",
      "TITLE     HIGH-RESOLUTION SOLUTION STRUCTURE OF THE OLIGOMERIZATION\n",
      "TITLE    2 DOMAIN OF P53 BY MULTI-DIMENSIONAL NMR\n",
      "COMPND    MOL_ID: 1;\n",
      "COMPND   2 MOLECULE: TUMOR SUPPRESSOR P53 (OLIGOMERIZATION DOMAIN);\n",
      "COMPND   3 CHAIN: A, B, C, D;\n",
      "COMPND   4 ENGINEERED: YES\n",
      "SOURCE    MOL_ID: 1;\n",
      "SOURCE   2 ORGANISM_SCIENTIFIC: HOMO SAPIENS;\n",
      "SOURCE   3 ORGANISM_COMMON: HUMAN;\n",
      "SOURCE   4 ORGANISM_TAXID: 9606\n"
     ]
    }
   ],
   "metadata": {}
  },
  {
   "cell_type": "code",
   "execution_count": 7,
   "source": [
    "#alternative method to cell 4\r\n",
    "with open('data/1OLG.pdb','r') as f:\r\n",
    "    i = 0\r\n",
    "    while i <= 10:\r\n",
    "        print(f.readline().rstrip())\r\n",
    "        i += 1"
   ],
   "outputs": [
    {
     "output_type": "stream",
     "name": "stdout",
     "text": [
      "HEADER    ANTI-ONCOGENE                           13-JUN-94   1OLG\n",
      "TITLE     HIGH-RESOLUTION SOLUTION STRUCTURE OF THE OLIGOMERIZATION\n",
      "TITLE    2 DOMAIN OF P53 BY MULTI-DIMENSIONAL NMR\n",
      "COMPND    MOL_ID: 1;\n",
      "COMPND   2 MOLECULE: TUMOR SUPPRESSOR P53 (OLIGOMERIZATION DOMAIN);\n",
      "COMPND   3 CHAIN: A, B, C, D;\n",
      "COMPND   4 ENGINEERED: YES\n",
      "SOURCE    MOL_ID: 1;\n",
      "SOURCE   2 ORGANISM_SCIENTIFIC: HOMO SAPIENS;\n",
      "SOURCE   3 ORGANISM_COMMON: HUMAN;\n",
      "SOURCE   4 ORGANISM_TAXID: 9606\n"
     ]
    }
   ],
   "metadata": {}
  },
  {
   "cell_type": "code",
   "execution_count": 8,
   "source": [
    "#os.path.isfile() checks to see if file exists\r\n",
    "os.path.isfile('data/1OLG.pdb')"
   ],
   "outputs": [
    {
     "output_type": "execute_result",
     "data": {
      "text/plain": [
       "True"
      ]
     },
     "metadata": {},
     "execution_count": 8
    }
   ],
   "metadata": {}
  },
  {
   "cell_type": "code",
   "execution_count": 1,
   "source": [
    "if os.path.isfile('mastery.txt'):\r\n",
    "    raise RuntimeError('File mastery.txt already exists')\r\n",
    "with open ('mastery.txt', 'w') as f:\r\n",
    "    f.write('This is my file\\n')\r\n",
    "    f.write('There are many like it, but this one is mine\\n')\r\n",
    "    f.write('I must master my file like I must master my life.\\n')"
   ],
   "outputs": [],
   "metadata": {}
  },
  {
   "cell_type": "code",
   "execution_count": 8,
   "source": [
    "#this will raise an exception because write() can only take str arguments\r\n",
    "with open('gimme_phi.txt', 'w') as f:\r\n",
    "    f.write('The golden ratio is phi = ')\r\n",
    "    f.write('{phi:.8f}'.format(phi=1.61803398875))"
   ],
   "outputs": [],
   "metadata": {}
  },
  {
   "cell_type": "markdown",
   "source": [
    "## **An exercise: extract atomic coordinates for first chain in tetramer**\r\n",
    "\r\n",
    "As an example on how to do file I/O, we will take the PDB file and extract only the `ATOM` records for the first chain of the tetramer and write only those entries to a new file.\r\n",
    "\r\n",
    "It is useful to know that according to the [PDB format specification](http://www.wwpdb.org/documentation/file-format-content/format33/sect9.html#ATOM), column 21 in the `ATOM` entry gives the ID of the chain\r\n",
    "\r\n",
    "We also conveniently use the fact that we can have multiple files open in our `with` block, seperating them with commas."
   ],
   "metadata": {}
  },
  {
   "cell_type": "code",
   "execution_count": 12,
   "source": [
    "with open('data/1OLG.pdb', 'r') as f, open('atoms_chain_A.txt', 'w') as f_out:\r\n",
    "    #put ATOM lines from chain A in new file\r\n",
    "    for line in f:\r\n",
    "        if len(line) > 21 and line[:4] == 'ATOM' and line[21] == 'A':\r\n",
    "            f_out.write(line)"
   ],
   "outputs": [],
   "metadata": {}
  },
  {
   "cell_type": "markdown",
   "source": [
    "## **Finding files and with glob**\r\n",
    "\r\n",
    "In the above snippet of code, we extracted all atom records from a PDB file. We might want to do this (or some other operation) for many files. For example, the directory `~/git/data/` has four PDB files in it. For the present discussion, let’s say we want to pull the sequence of chain A out of each PDB file.\r\n",
    "\r\n",
    "The `glob` module from the standard library enables us to get a list of all files that match a pattern. In our case, we want all files matching `data/*.pdb`, where `*` is a **wild card character**, meaning that any matches of characters where * appears are allowed. Let’s see what `glob.glob()` gives us."
   ],
   "metadata": {}
  },
  {
   "cell_type": "code",
   "execution_count": 15,
   "source": [
    "file_list = glob.glob('data/*.pdb')\r\n",
    "\r\n",
    "file_list"
   ],
   "outputs": [
    {
     "output_type": "execute_result",
     "data": {
      "text/plain": [
       "['data\\\\1FAG.pdb', 'data\\\\1J6Z.pdb', 'data\\\\1OLG.pdb', 'data\\\\2ERK.pdb']"
      ]
     },
     "metadata": {},
     "execution_count": 15
    }
   ],
   "metadata": {}
  },
  {
   "cell_type": "code",
   "execution_count": 20,
   "source": [
    "#dictionary to hold sequences\r\n",
    "seqs = {}\r\n",
    "\r\n",
    "#loop through all matching files\r\n",
    "for file_name in file_list:\r\n",
    "    #extract PDB ID\r\n",
    "    pdb_id = file_name[file_name.find('\\\\')+1:file_name.rfind('.')]\r\n",
    "\r\n",
    "    #intialize sequence string, which we build as we go along\r\n",
    "    seq = ''\r\n",
    "    with open(file_name, 'r') as f:\r\n",
    "        for line in f:\r\n",
    "            if len(line) > 11 and line[:6] == 'SEQRES' and line[11] == 'A':\r\n",
    "                seq += line[19:].rstrip() + ' '\r\n",
    "\r\n",
    "    #build sequence w/ dash-joined three letter codes\r\n",
    "    seq = '-'.join(seq.split())\r\n",
    "\r\n",
    "    #store in the dictionary\r\n",
    "    seqs[pdb_id] = seq\r\n",
    "seqs"
   ],
   "outputs": [
    {
     "output_type": "execute_result",
     "data": {
      "text/plain": [
       "{'1FAG': 'THR-ILE-LYS-GLU-MET-PRO-GLN-PRO-LYS-THR-PHE-GLY-GLU-LEU-LYS-ASN-LEU-PRO-LEU-LEU-ASN-THR-ASP-LYS-PRO-VAL-GLN-ALA-LEU-MET-LYS-ILE-ALA-ASP-GLU-LEU-GLY-GLU-ILE-PHE-LYS-PHE-GLU-ALA-PRO-GLY-ARG-VAL-THR-ARG-TYR-LEU-SER-SER-GLN-ARG-LEU-ILE-LYS-GLU-ALA-CYS-ASP-GLU-SER-ARG-PHE-ASP-LYS-ASN-LEU-SER-GLN-ALA-LEU-LYS-PHE-VAL-ARG-ASP-PHE-ALA-GLY-ASP-GLY-LEU-PHE-THR-SER-TRP-THR-HIS-GLU-LYS-ASN-TRP-LYS-LYS-ALA-HIS-ASN-ILE-LEU-LEU-PRO-SER-PHE-SER-GLN-GLN-ALA-MET-LYS-GLY-TYR-HIS-ALA-MET-MET-VAL-ASP-ILE-ALA-VAL-GLN-LEU-VAL-GLN-LYS-TRP-GLU-ARG-LEU-ASN-ALA-ASP-GLU-HIS-ILE-GLU-VAL-PRO-GLU-ASP-MET-THR-ARG-LEU-THR-LEU-ASP-THR-ILE-GLY-LEU-CYS-GLY-PHE-ASN-TYR-ARG-PHE-ASN-SER-PHE-TYR-ARG-ASP-GLN-PRO-HIS-PRO-PHE-ILE-THR-SER-MET-VAL-ARG-ALA-LEU-ASP-GLU-ALA-MET-ASN-LYS-LEU-GLN-ARG-ALA-ASN-PRO-ASP-ASP-PRO-ALA-TYR-ASP-GLU-ASN-LYS-ARG-GLN-PHE-GLN-GLU-ASP-ILE-LYS-VAL-MET-ASN-ASP-LEU-VAL-ASP-LYS-ILE-ILE-ALA-ASP-ARG-LYS-ALA-SER-GLY-GLU-GLN-SER-ASP-ASP-LEU-LEU-THR-HIS-MET-LEU-ASN-GLY-LYS-ASP-PRO-GLU-THR-GLY-GLU-PRO-LEU-ASP-ASP-GLU-ASN-ILE-ARG-TYR-GLN-ILE-ILE-THR-PHE-LEU-ILE-ALA-GLY-HIS-GLU-THR-THR-SER-GLY-LEU-LEU-SER-PHE-ALA-LEU-TYR-PHE-LEU-VAL-LYS-ASN-PRO-HIS-VAL-LEU-GLN-LYS-ALA-ALA-GLU-GLU-ALA-ALA-ARG-VAL-LEU-VAL-ASP-PRO-VAL-PRO-SER-TYR-LYS-GLN-VAL-LYS-GLN-LEU-LYS-TYR-VAL-GLY-MET-VAL-LEU-ASN-GLU-ALA-LEU-ARG-LEU-TRP-PRO-THR-ALA-PRO-ALA-PHE-SER-LEU-TYR-ALA-LYS-GLU-ASP-THR-VAL-LEU-GLY-GLY-GLU-TYR-PRO-LEU-GLU-LYS-GLY-ASP-GLU-LEU-MET-VAL-LEU-ILE-PRO-GLN-LEU-HIS-ARG-ASP-LYS-THR-ILE-TRP-GLY-ASP-ASP-VAL-GLU-GLU-PHE-ARG-PRO-GLU-ARG-PHE-GLU-ASN-PRO-SER-ALA-ILE-PRO-GLN-HIS-ALA-PHE-LYS-PRO-PHE-GLY-ASN-GLY-GLN-ARG-ALA-CYS-ILE-GLY-GLN-GLN-PHE-ALA-LEU-HIS-GLU-ALA-THR-LEU-VAL-LEU-GLY-MET-MET-LEU-LYS-HIS-PHE-ASP-PHE-GLU-ASP-HIS-THR-ASN-TYR-GLU-LEU-ASP-ILE-LYS-GLU-THR-LEU-THR-LEU-LYS-PRO-GLU-GLY-PHE-VAL-VAL-LYS-ALA-LYS-SER-LYS-LYS-ILE-PRO-LEU-GLY-GLY-ILE-PRO-SER-PRO-SER-THR-GLU-GLN-SER-ALA-LYS-LYS-VAL-ARG',\n",
       " '1J6Z': 'ASP-GLU-ASP-GLU-THR-THR-ALA-LEU-VAL-CYS-ASP-ASN-GLY-SER-GLY-LEU-VAL-LYS-ALA-GLY-PHE-ALA-GLY-ASP-ASP-ALA-PRO-ARG-ALA-VAL-PHE-PRO-SER-ILE-VAL-GLY-ARG-PRO-ARG-HIS-GLN-GLY-VAL-MET-VAL-GLY-MET-GLY-GLN-LYS-ASP-SER-TYR-VAL-GLY-ASP-GLU-ALA-GLN-SER-LYS-ARG-GLY-ILE-LEU-THR-LEU-LYS-TYR-PRO-ILE-GLU-HIC-GLY-ILE-ILE-THR-ASN-TRP-ASP-ASP-MET-GLU-LYS-ILE-TRP-HIS-HIS-THR-PHE-TYR-ASN-GLU-LEU-ARG-VAL-ALA-PRO-GLU-GLU-HIS-PRO-THR-LEU-LEU-THR-GLU-ALA-PRO-LEU-ASN-PRO-LYS-ALA-ASN-ARG-GLU-LYS-MET-THR-GLN-ILE-MET-PHE-GLU-THR-PHE-ASN-VAL-PRO-ALA-MET-TYR-VAL-ALA-ILE-GLN-ALA-VAL-LEU-SER-LEU-TYR-ALA-SER-GLY-ARG-THR-THR-GLY-ILE-VAL-LEU-ASP-SER-GLY-ASP-GLY-VAL-THR-HIS-ASN-VAL-PRO-ILE-TYR-GLU-GLY-TYR-ALA-LEU-PRO-HIS-ALA-ILE-MET-ARG-LEU-ASP-LEU-ALA-GLY-ARG-ASP-LEU-THR-ASP-TYR-LEU-MET-LYS-ILE-LEU-THR-GLU-ARG-GLY-TYR-SER-PHE-VAL-THR-THR-ALA-GLU-ARG-GLU-ILE-VAL-ARG-ASP-ILE-LYS-GLU-LYS-LEU-CYS-TYR-VAL-ALA-LEU-ASP-PHE-GLU-ASN-GLU-MET-ALA-THR-ALA-ALA-SER-SER-SER-SER-LEU-GLU-LYS-SER-TYR-GLU-LEU-PRO-ASP-GLY-GLN-VAL-ILE-THR-ILE-GLY-ASN-GLU-ARG-PHE-ARG-CYS-PRO-GLU-THR-LEU-PHE-GLN-PRO-SER-PHE-ILE-GLY-MET-GLU-SER-ALA-GLY-ILE-HIS-GLU-THR-THR-TYR-ASN-SER-ILE-MET-LYS-CYS-ASP-ILE-ASP-ILE-ARG-LYS-ASP-LEU-TYR-ALA-ASN-ASN-VAL-MET-SER-GLY-GLY-THR-THR-MET-TYR-PRO-GLY-ILE-ALA-ASP-ARG-MET-GLN-LYS-GLU-ILE-THR-ALA-LEU-ALA-PRO-SER-THR-MET-LYS-ILE-LYS-ILE-ILE-ALA-PRO-PRO-GLU-ARG-LYS-TYR-SER-VAL-TRP-ILE-GLY-GLY-SER-ILE-LEU-ALA-SER-LEU-SER-THR-PHE-GLN-GLN-MET-TRP-ILE-THR-LYS-GLN-GLU-TYR-ASP-GLU-ALA-GLY-PRO-SER-ILE-VAL-HIS-ARG-LYS-CYS-PHE',\n",
       " '1OLG': 'LYS-LYS-LYS-PRO-LEU-ASP-GLY-GLU-TYR-PHE-THR-LEU-GLN-ILE-ARG-GLY-ARG-GLU-ARG-PHE-GLU-MET-PHE-ARG-GLU-LEU-ASN-GLU-ALA-LEU-GLU-LEU-LYS-ASP-ALA-GLN-ALA-GLY-LYS-GLU-PRO-GLY',\n",
       " '2ERK': 'ALA-HIS-HIS-HIS-HIS-HIS-HIS-MET-ALA-ALA-ALA-ALA-ALA-ALA-GLY-PRO-GLU-MET-VAL-ARG-GLY-GLN-VAL-PHE-ASP-VAL-GLY-PRO-ARG-TYR-THR-ASN-LEU-SER-TYR-ILE-GLY-GLU-GLY-ALA-TYR-GLY-MET-VAL-CYS-SER-ALA-TYR-ASP-ASN-LEU-ASN-LYS-VAL-ARG-VAL-ALA-ILE-LYS-LYS-ILE-SER-PRO-PHE-GLU-HIS-GLN-THR-TYR-CYS-GLN-ARG-THR-LEU-ARG-GLU-ILE-LYS-ILE-LEU-LEU-ARG-PHE-ARG-HIS-GLU-ASN-ILE-ILE-GLY-ILE-ASN-ASP-ILE-ILE-ARG-ALA-PRO-THR-ILE-GLU-GLN-MET-LYS-ASP-VAL-TYR-ILE-VAL-GLN-ASP-LEU-MET-GLU-THR-ASP-LEU-TYR-LYS-LEU-LEU-LYS-THR-GLN-HIS-LEU-SER-ASN-ASP-HIS-ILE-CYS-TYR-PHE-LEU-TYR-GLN-ILE-LEU-ARG-GLY-LEU-LYS-TYR-ILE-HIS-SER-ALA-ASN-VAL-LEU-HIS-ARG-ASP-LEU-LYS-PRO-SER-ASN-LEU-LEU-LEU-ASN-THR-THR-CYS-ASP-LEU-LYS-ILE-CYS-ASP-PHE-GLY-LEU-ALA-ARG-VAL-ALA-ASP-PRO-ASP-HIS-ASP-HIS-THR-GLY-PHE-LEU-TPO-GLU-PTR-VAL-ALA-THR-ARG-TRP-TYR-ARG-ALA-PRO-GLU-ILE-MET-LEU-ASN-SER-LYS-GLY-TYR-THR-LYS-SER-ILE-ASP-ILE-TRP-SER-VAL-GLY-CYS-ILE-LEU-ALA-GLU-MET-LEU-SER-ASN-ARG-PRO-ILE-PHE-PRO-GLY-LYS-HIS-TYR-LEU-ASP-GLN-LEU-ASN-HIS-ILE-LEU-GLY-ILE-LEU-GLY-SER-PRO-SER-GLN-GLU-ASP-LEU-ASN-CYS-ILE-ILE-ASN-LEU-LYS-ALA-ARG-ASN-TYR-LEU-LEU-SER-LEU-PRO-HIS-LYS-ASN-LYS-VAL-PRO-TRP-ASN-ARG-LEU-PHE-PRO-ASN-ALA-ASP-SER-LYS-ALA-LEU-ASP-LEU-LEU-ASP-LYS-MET-LEU-THR-PHE-ASN-PRO-HIS-LYS-ARG-ILE-GLU-VAL-GLU-GLN-ALA-LEU-ALA-HIS-PRO-TYR-LEU-GLU-GLN-TYR-TYR-ASP-PRO-SER-ASP-GLU-PRO-ILE-ALA-GLU-ALA-PRO-PHE-LYS-PHE-ASP-MET-GLU-LEU-ASP-ASP-LEU-PRO-LYS-GLU-LYS-LEU-LYS-GLU-LEU-ILE-PHE-GLU-GLU-THR-ALA-ARG-PHE-GLN-PRO-GLY-TYR-ARG-SER'}"
      ]
     },
     "metadata": {},
     "execution_count": 20
    }
   ],
   "metadata": {}
  },
  {
   "cell_type": "code",
   "execution_count": 21,
   "source": [
    "seqs['1J6Z']"
   ],
   "outputs": [
    {
     "output_type": "execute_result",
     "data": {
      "text/plain": [
       "'ASP-GLU-ASP-GLU-THR-THR-ALA-LEU-VAL-CYS-ASP-ASN-GLY-SER-GLY-LEU-VAL-LYS-ALA-GLY-PHE-ALA-GLY-ASP-ASP-ALA-PRO-ARG-ALA-VAL-PHE-PRO-SER-ILE-VAL-GLY-ARG-PRO-ARG-HIS-GLN-GLY-VAL-MET-VAL-GLY-MET-GLY-GLN-LYS-ASP-SER-TYR-VAL-GLY-ASP-GLU-ALA-GLN-SER-LYS-ARG-GLY-ILE-LEU-THR-LEU-LYS-TYR-PRO-ILE-GLU-HIC-GLY-ILE-ILE-THR-ASN-TRP-ASP-ASP-MET-GLU-LYS-ILE-TRP-HIS-HIS-THR-PHE-TYR-ASN-GLU-LEU-ARG-VAL-ALA-PRO-GLU-GLU-HIS-PRO-THR-LEU-LEU-THR-GLU-ALA-PRO-LEU-ASN-PRO-LYS-ALA-ASN-ARG-GLU-LYS-MET-THR-GLN-ILE-MET-PHE-GLU-THR-PHE-ASN-VAL-PRO-ALA-MET-TYR-VAL-ALA-ILE-GLN-ALA-VAL-LEU-SER-LEU-TYR-ALA-SER-GLY-ARG-THR-THR-GLY-ILE-VAL-LEU-ASP-SER-GLY-ASP-GLY-VAL-THR-HIS-ASN-VAL-PRO-ILE-TYR-GLU-GLY-TYR-ALA-LEU-PRO-HIS-ALA-ILE-MET-ARG-LEU-ASP-LEU-ALA-GLY-ARG-ASP-LEU-THR-ASP-TYR-LEU-MET-LYS-ILE-LEU-THR-GLU-ARG-GLY-TYR-SER-PHE-VAL-THR-THR-ALA-GLU-ARG-GLU-ILE-VAL-ARG-ASP-ILE-LYS-GLU-LYS-LEU-CYS-TYR-VAL-ALA-LEU-ASP-PHE-GLU-ASN-GLU-MET-ALA-THR-ALA-ALA-SER-SER-SER-SER-LEU-GLU-LYS-SER-TYR-GLU-LEU-PRO-ASP-GLY-GLN-VAL-ILE-THR-ILE-GLY-ASN-GLU-ARG-PHE-ARG-CYS-PRO-GLU-THR-LEU-PHE-GLN-PRO-SER-PHE-ILE-GLY-MET-GLU-SER-ALA-GLY-ILE-HIS-GLU-THR-THR-TYR-ASN-SER-ILE-MET-LYS-CYS-ASP-ILE-ASP-ILE-ARG-LYS-ASP-LEU-TYR-ALA-ASN-ASN-VAL-MET-SER-GLY-GLY-THR-THR-MET-TYR-PRO-GLY-ILE-ALA-ASP-ARG-MET-GLN-LYS-GLU-ILE-THR-ALA-LEU-ALA-PRO-SER-THR-MET-LYS-ILE-LYS-ILE-ILE-ALA-PRO-PRO-GLU-ARG-LYS-TYR-SER-VAL-TRP-ILE-GLY-GLY-SER-ILE-LEU-ALA-SER-LEU-SER-THR-PHE-GLN-GLN-MET-TRP-ILE-THR-LYS-GLN-GLU-TYR-ASP-GLU-ALA-GLY-PRO-SER-ILE-VAL-HIS-ARG-LYS-CYS-PHE'"
      ]
     },
     "metadata": {},
     "execution_count": 21
    }
   ],
   "metadata": {}
  },
  {
   "cell_type": "code",
   "execution_count": 22,
   "source": [
    "%load_ext watermark\r\n",
    "%watermark -v -p jupyterlab"
   ],
   "outputs": [
    {
     "output_type": "stream",
     "name": "stdout",
     "text": [
      "Python implementation: CPython\n",
      "Python version       : 3.8.11\n",
      "IPython version      : 7.27.0\n",
      "\n",
      "jupyterlab: 3.1.7\n",
      "\n"
     ]
    }
   ],
   "metadata": {}
  },
  {
   "cell_type": "code",
   "execution_count": null,
   "source": [],
   "outputs": [],
   "metadata": {}
  }
 ],
 "metadata": {
  "kernelspec": {
   "name": "python3",
   "display_name": "Python 3.8.11 64-bit ('bioenv': conda)"
  },
  "language_info": {
   "codemirror_mode": {
    "name": "ipython",
    "version": 3
   },
   "file_extension": ".py",
   "mimetype": "text/x-python",
   "name": "python",
   "nbconvert_exporter": "python",
   "pygments_lexer": "ipython3",
   "version": "3.8.11"
  },
  "interpreter": {
   "hash": "368c08f704fd752b7a8404c46731b2194d10ba455e91c505469b38bf31f765bc"
  }
 },
 "nbformat": 4,
 "nbformat_minor": 5
}