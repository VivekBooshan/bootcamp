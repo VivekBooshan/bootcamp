{
 "cells": [
  {
   "cell_type": "markdown",
   "id": "aee8c30f-73a9-4ef5-99ae-c1f97ff2d09f",
   "metadata": {},
   "source": [
    "# Exercise 2\n",
    "## 2.1\n",
    "we wrote a function to compute the reverse complement of a sequence.\n",
    "\n",
    "a) Write that function again, still using a for loop, but do not use the built-in reversed() function.\n",
    "\n",
    "b) Write the function one more time, but without any loops."
   ]
  },
  {
   "cell_type": "code",
   "execution_count": 4,
   "id": "909a6e3b-5284-48bf-a7f1-d5d8d9fdc16d",
   "metadata": {},
   "outputs": [],
   "source": [
    "def reverse_complement(seq):\n",
    "    #method 1\n",
    "    rev_seq = seq\n",
    "    \n",
    "    rev_seq.replace('A', 'T')\n",
    "    rev_seq.replace('T', 'A')\n",
    "    rev_seq.replace('C', 'G')\n",
    "    rev_seq.replace('G', 'C')\n",
    "    \n",
    "    return rev_seq[::-1]\n",
    "    \n",
    "    #method 2\n",
    "    '''return seq.translate(str.maketrans('ATCGatcg', TAGCTAGC')[::-1]'''"
   ]
  },
  {
   "cell_type": "markdown",
   "id": "452e811a-7c4f-4740-a10c-ae41374654c8",
   "metadata": {},
   "source": [
    "## 2.2\n",
    "Write a function that takes two sequences and returns the longest common substring. A substring is a contiguous portion of a string. "
   ]
  },
  {
   "cell_type": "code",
   "execution_count": 8,
   "id": "130c3791-1eb5-4b5d-bb6d-762a8127c679",
   "metadata": {},
   "outputs": [],
   "source": [
    "def longest_common_substring(s1, s2):\n",
    "    if len(s2) > len(s1):\n",
    "        s1, s2 = s2, s1\n",
    "    \n",
    "    sublen = len(s1)\n",
    "    while sublen > 0:\n",
    "        for i in range(len(s1) - sublen + 1):\n",
    "            if s1[i:i+sublen] in s2:\n",
    "                return s1[i:i+sublen]\n",
    "        sublen -= 1\n",
    "    return ''"
   ]
  },
  {
   "cell_type": "code",
   "execution_count": 9,
   "id": "7c6af5b9-bc50-4781-9d80-35ebcfba2e6d",
   "metadata": {},
   "outputs": [
    {
     "data": {
      "text/plain": [
       "'ACGT'"
      ]
     },
     "execution_count": 9,
     "metadata": {},
     "output_type": "execute_result"
    }
   ],
   "source": [
    "longest_common_substring('ACGTGGAAAGCCA', 'GTACACACGTTTTGAGAGACAC')"
   ]
  },
  {
   "cell_type": "markdown",
   "id": "bd0e9b75-5d7e-49a7-9b99-0dabf4ab1391",
   "metadata": {},
   "source": [
    "## 2.3 RNA Secondary Structure Validator\n",
    "In this problem, we will write a function that takes an RNA sequence and an RNA secondary structure and decides if the secondary structure is possible given the sequence. Remember, single stranded RNA can fold back on itself and form base pairs. An RNA secondary structure is simply the list of base pairs that are present. We will represent the base pairs in dot-parentheses notation. For example, a sequence/secondary structure pair would be\n",
    "```python\n",
    "0123456789\n",
    "GCAUCUAUGC\n",
    "(((....)))\n",
    "```\n",
    "a) Write a function to make sure that the number of closed parentheses is equal to the number of open parentheses, a requirement for a valid secondary structure. It should return `True` if the parentheses are valid and `False` otherwise.\n",
    "\n",
    "b) Write a function that converts the dot-parens notation to a tuple of 2-tuples representing the base pairs. We’ll call this function `dotparen_to_bp()`. An example input/output of this function would be:\n",
    "```python\n",
    "dotparen_to_bp('(((....)))')\n",
    "\n",
    "((0, 9), (1, 8), (2, 7))\n",
    "```\n",
    "c) Because of sterics, the minimal length of a hairpin loop is three bases. A hairpin loop is a series of unpaired bases that are closed by a base pair. For example, the secondary structure `(.(....).)` has a single hairpin loop of length 4. So, the structure `((((..))))` is not valid because it has a hairpin loop of only two bases.\n",
    "\n",
    "Write a function that verifies that a list of base pairs (as outputted by `dotparen_to_bp()`) satisfies the minimal hairpin length requirement.\n",
    "\n",
    "d) Now write your validator function. The function definition should look like this:\n",
    "```python\n",
    "def rna_ss_validator(seq, sec_struc, wobble=True):\n",
    "```\n",
    "It should return `True` if the sequence is commensurate with a valid secondary structure and `False` otherwise. The wobble keyword argument is `True` if we allow wobble pairs (`G` paired with `U`). Here are some expected results:\n",
    "\n",
    "Returns `True`:\n",
    "```python\n",
    "rna_ss_validator('GCAUCUAUGC', '(((....)))')\n",
    "rna_ss_validator('GCAUCUAUGU', '(((....)))')\n",
    "rna_ss_validator('GCAUCUAUGU', '(.(....).)')\n",
    "```\n",
    "\n",
    "Returns `False`:\n",
    "```python\n",
    "rna_ss_validator('GCAUCUACGC', '(((....)))')\n",
    "rna_ss_validator('GCAUCUAUGU', '(((....)))', wobble=False)\n",
    "rna_ss_validator('GCAUCUAUGU', '(.(....)).')\n",
    "rna_ss_validator('GCCCUUGGCA', '(.((..))).')\n",
    "```"
   ]
  },
  {
   "cell_type": "code",
   "execution_count": 22,
   "id": "dd96bf08-91d3-43e5-b84e-8518d6569ef5",
   "metadata": {},
   "outputs": [],
   "source": [
    "def parens_checker(structure):\n",
    "#     if structure.count('(') == structure.count(')'):\n",
    "#         return True\n",
    "#     else: False\n",
    "    \n",
    "    return structure.count('(') == structure.count(')')"
   ]
  },
  {
   "cell_type": "code",
   "execution_count": 23,
   "id": "d9917893-e257-423b-879a-8973da93f155",
   "metadata": {},
   "outputs": [
    {
     "name": "stdout",
     "output_type": "stream",
     "text": [
      "True\n",
      "False\n"
     ]
    }
   ],
   "source": [
    "print(parens_checker('(((..(((...)).))))'))\n",
    "print(parens_checker('(((..(((...)).)))'))"
   ]
  },
  {
   "cell_type": "code",
   "execution_count": 28,
   "id": "1c565a26-9bf7-4e47-8d5d-4fea7d5a76b5",
   "metadata": {},
   "outputs": [],
   "source": [
    "def dotparen_to_bp(structure):\n",
    "    if not parens_checker(structure):\n",
    "        print(\"Improper input structure\")\n",
    "        return False\n",
    "    \n",
    "    open_params = []\n",
    "    bp = []\n",
    "    \n",
    "    for i, x in enumerate(structure):\n",
    "        if x == '(':\n",
    "            open_params.append(i)\n",
    "        elif x == ')':\n",
    "            if len(open_params) > 0:\n",
    "                bp.append((open_params.pop(), i))\n",
    "            else:\n",
    "                print('error in input structure')\n",
    "                return False\n",
    "    \n",
    "    return tuple(sorted(bp))"
   ]
  },
  {
   "cell_type": "code",
   "execution_count": 29,
   "id": "047c41d3-ebe8-4ca1-b32c-2ab56a1032c4",
   "metadata": {},
   "outputs": [
    {
     "data": {
      "text/plain": [
       "((2, 10), (3, 9), (4, 8), (11, 25), (12, 23), (13, 22), (14, 21), (15, 20))"
      ]
     },
     "execution_count": 29,
     "metadata": {},
     "output_type": "execute_result"
    }
   ],
   "source": [
    "# Good structure\n",
    "dotparen_to_bp('..(((...)))(((((....)))).)..')"
   ]
  },
  {
   "cell_type": "code",
   "execution_count": 30,
   "id": "af218f2a-9d5c-4841-8b4b-1e7c89082170",
   "metadata": {},
   "outputs": [
    {
     "data": {
      "text/plain": [
       "((0, 17), (1, 16), (2, 15), (5, 14), (6, 12), (7, 11))"
      ]
     },
     "execution_count": 30,
     "metadata": {},
     "output_type": "execute_result"
    }
   ],
   "source": [
    "dotparen_to_bp('(((..(((...)).))))')\n"
   ]
  },
  {
   "cell_type": "code",
   "execution_count": 31,
   "id": "4e3ff079-8319-4e15-a518-cbf703d7e194",
   "metadata": {},
   "outputs": [
    {
     "name": "stdout",
     "output_type": "stream",
     "text": [
      "error in input structure\n"
     ]
    },
    {
     "data": {
      "text/plain": [
       "False"
      ]
     },
     "execution_count": 31,
     "metadata": {},
     "output_type": "execute_result"
    }
   ],
   "source": [
    "dotparen_to_bp('((....)))(')"
   ]
  },
  {
   "cell_type": "code",
   "execution_count": 49,
   "id": "0fd0fc89-faab-4163-b9a9-f339b0481aa0",
   "metadata": {},
   "outputs": [
    {
     "name": "stdout",
     "output_type": "stream",
     "text": [
      "Improper input structure\n"
     ]
    },
    {
     "data": {
      "text/plain": [
       "False"
      ]
     },
     "execution_count": 49,
     "metadata": {},
     "output_type": "execute_result"
    }
   ],
   "source": [
    "dotparen_to_bp('())....))))')"
   ]
  },
  {
   "cell_type": "code",
   "execution_count": 48,
   "id": "10384630-fcf7-446a-aadf-4ab2c7f4d195",
   "metadata": {},
   "outputs": [],
   "source": [
    "import re\n",
    "def hairpin_checker(structure):\n",
    "    return (len(re.findall('\\.\\.\\.', structure)) != 0)"
   ]
  },
  {
   "cell_type": "code",
   "execution_count": 52,
   "id": "b08ce100-e054-48e5-80f0-c7c878efe4b6",
   "metadata": {},
   "outputs": [],
   "source": [
    "def rna_ss_validator(seq, sec_struc, wobble=True):\n",
    "    base_pairs = dotparen_to_bp(sec_struc)\n",
    "    \n",
    "    if not base_pairs:\n",
    "        return False\n",
    "    \n",
    "    if not hairpin_checker(sec_struc):\n",
    "        print('hairpin too short')\n",
    "        return False\n",
    "    \n",
    "    if wobble:\n",
    "        valid_base_pairs = ('gc', 'cg', 'au', 'ua', 'gu', 'ug')\n",
    "    else:\n",
    "        valid_base_pairs = ('gc', 'cg', 'au', 'ua')\n",
    "    \n",
    "    for pair in base_pairs:\n",
    "        pair_str = (seq[pair[0]] + seq[pair[1]]).lower()\n",
    "        if pair_str not in valid_base_pairs:\n",
    "            print('invalid base pair')\n",
    "            return False\n",
    "        \n",
    "    return True\n"
   ]
  },
  {
   "cell_type": "code",
   "execution_count": 54,
   "id": "751ccf88-ec23-4f1e-87d0-ad6c63f25d7b",
   "metadata": {},
   "outputs": [
    {
     "name": "stdout",
     "output_type": "stream",
     "text": [
      "True\n",
      "True\n",
      "True\n",
      "True\n",
      "\n",
      "\n",
      "invalid base pair\n",
      "False \n",
      "\n",
      "invalid base pair\n",
      "False \n",
      "\n",
      "invalid base pair\n",
      "False \n",
      "\n",
      "hairpin too short\n",
      "False \n",
      "\n",
      "invalid base pair\n",
      "False\n"
     ]
    }
   ],
   "source": [
    "#test code\n",
    "print(rna_ss_validator('GCAUCUAUGC', '(((....)))'))\n",
    "print(rna_ss_validator('GCAUCUAUGU', '(((....)))'))\n",
    "print(rna_ss_validator('GCAUCUAUGU', '(.(....).)'))\n",
    "print(rna_ss_validator('AUUGAUGCACGUGCAUCCCCAGCGGGUCCCGCGAGCUCACCCCCUUCCAAAAGCACCACGUGCCAGGCCUCGCCCCCGGAAGUAUACCUGUGAGCCAGA',\n",
    "                       '...(((((....)))))....((((...))))..((((((...(((((....((((...))))..(((...)))...))))).......))))))....'))\n",
    "\n",
    "print('\\n')\n",
    "print(rna_ss_validator('GCAUCUACGC', '(((....)))'), '\\n')\n",
    "print(rna_ss_validator('GCAUCUAUGU', '(((....)))', wobble=False), '\\n')\n",
    "print(rna_ss_validator('GCAUCUAUGU', '(.(....)).'), '\\n')\n",
    "print(rna_ss_validator('GCCCUUGGCA', '(.((..))).'),'\\n')\n",
    "print(rna_ss_validator('AUUGAUGCACGUGCAUCCCCAGCGGGUCCCGCGAGCCCACCCCCUUCCAAAAGCACCACGUGCCAGGCCUCGCCCCCGGAAGUAUACCUGUGAGCCAGA',\n",
    "                       '...(((((....)))))....((((...))))..((((((...(((((....((((...))))..(((...)))...))))).......))))))....'))"
   ]
  },
  {
   "cell_type": "code",
   "execution_count": 55,
   "id": "c5411759-1a84-484e-b63d-a934d0cc2f32",
   "metadata": {},
   "outputs": [
    {
     "name": "stdout",
     "output_type": "stream",
     "text": [
      "Python implementation: CPython\n",
      "Python version       : 3.8.11\n",
      "IPython version      : 7.27.0\n",
      "\n",
      "jupyterlab: 3.1.7\n",
      "\n"
     ]
    }
   ],
   "source": [
    "%load_ext watermark\n",
    "%watermark -v -p jupyterlab"
   ]
  },
  {
   "cell_type": "code",
   "execution_count": null,
   "id": "897c9348-1a6a-402f-98dd-8c07e3729f88",
   "metadata": {},
   "outputs": [],
   "source": []
  }
 ],
 "metadata": {
  "kernelspec": {
   "display_name": "bioenv",
   "language": "python",
   "name": "bioenv"
  },
  "language_info": {
   "codemirror_mode": {
    "name": "ipython",
    "version": 3
   },
   "file_extension": ".py",
   "mimetype": "text/x-python",
   "name": "python",
   "nbconvert_exporter": "python",
   "pygments_lexer": "ipython3",
   "version": "3.8.11"
  }
 },
 "nbformat": 4,
 "nbformat_minor": 5
}
