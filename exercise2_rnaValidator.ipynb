{
 "cells": [
  {
   "cell_type": "markdown",
   "source": [
    "# Exercise 2\n",
    "## 2.1\n",
    "we wrote a function to compute the reverse complement of a sequence.\n",
    "\n",
    "a) Write that function again, still using a for loop, but do not use the built-in reversed() function.\n",
    "\n",
    "b) Write the function one more time, but without any loops."
   ],
   "metadata": {}
  },
  {
   "cell_type": "code",
   "execution_count": 4,
   "source": [
    "def reverse_complement(seq):\r\n",
    "    #method 1\r\n",
    "    rev_seq = seq\r\n",
    "    \r\n",
    "    rev_seq.replace('A', 'T')\r\n",
    "    rev_seq.replace('T', 'A')\r\n",
    "    rev_seq.replace('C', 'G')\r\n",
    "    rev_seq.replace('G', 'C')\r\n",
    "    \r\n",
    "    return rev_seq[::-1]\r\n",
    "    \r\n",
    "    #method 2\r\n",
    "    '''return seq.translate(str.maketrans('ATCGatcg', TAGCTAGC')[::-1]'''"
   ],
   "outputs": [],
   "metadata": {}
  },
  {
   "cell_type": "markdown",
   "source": [
    "## 2.2\n",
    "Write a function that takes two sequences and returns the longest common substring. A substring is a contiguous portion of a string. "
   ],
   "metadata": {}
  },
  {
   "cell_type": "code",
   "execution_count": 8,
   "source": [
    "def longest_common_substring(s1, s2):\r\n",
    "    if len(s2) > len(s1):\r\n",
    "        s1, s2 = s2, s1\r\n",
    "    \r\n",
    "    sublen = len(s1)\r\n",
    "    while sublen > 0:\r\n",
    "        for i in range(len(s1) - sublen + 1):\r\n",
    "            if s1[i:i+sublen] in s2:\r\n",
    "                return s1[i:i+sublen]\r\n",
    "        sublen -= 1\r\n",
    "    return ''"
   ],
   "outputs": [],
   "metadata": {}
  },
  {
   "cell_type": "code",
   "execution_count": 9,
   "source": [
    "longest_common_substring('ACGTGGAAAGCCA', 'GTACACACGTTTTGAGAGACAC')"
   ],
   "outputs": [
    {
     "output_type": "execute_result",
     "data": {
      "text/plain": [
       "'ACGT'"
      ]
     },
     "metadata": {},
     "execution_count": 9
    }
   ],
   "metadata": {}
  },
  {
   "cell_type": "markdown",
   "source": [
    "## 2.3 RNA Secondary Structure Validator\n",
    "In this problem, we will write a function that takes an RNA sequence and an RNA secondary structure and decides if the secondary structure is possible given the sequence. Remember, single stranded RNA can fold back on itself and form base pairs. An RNA secondary structure is simply the list of base pairs that are present. We will represent the base pairs in dot-parentheses notation. For example, a sequence/secondary structure pair would be\n",
    "```python\n",
    "0123456789\n",
    "GCAUCUAUGC\n",
    "(((....)))\n",
    "```\n",
    "a) Write a function to make sure that the number of closed parentheses is equal to the number of open parentheses, a requirement for a valid secondary structure. It should return `True` if the parentheses are valid and `False` otherwise.\n",
    "\n",
    "b) Write a function that converts the dot-parens notation to a tuple of 2-tuples representing the base pairs. We’ll call this function `dotparen_to_bp()`. An example input/output of this function would be:\n",
    "```python\n",
    "dotparen_to_bp('(((....)))')\n",
    "\n",
    "((0, 9), (1, 8), (2, 7))\n",
    "```\n",
    "c) Because of sterics, the minimal length of a hairpin loop is three bases. A hairpin loop is a series of unpaired bases that are closed by a base pair. For example, the secondary structure `(.(....).)` has a single hairpin loop of length 4. So, the structure `((((..))))` is not valid because it has a hairpin loop of only two bases.\n",
    "\n",
    "Write a function that verifies that a list of base pairs (as outputted by `dotparen_to_bp()`) satisfies the minimal hairpin length requirement.\n",
    "\n",
    "d) Now write your validator function. The function definition should look like this:\n",
    "```python\n",
    "def rna_ss_validator(seq, sec_struc, wobble=True):\n",
    "```\n",
    "It should return `True` if the sequence is commensurate with a valid secondary structure and `False` otherwise. The wobble keyword argument is `True` if we allow wobble pairs (`G` paired with `U`). Here are some expected results:\n",
    "\n",
    "Returns `True`:\n",
    "```python\n",
    "rna_ss_validator('GCAUCUAUGC', '(((....)))')\n",
    "rna_ss_validator('GCAUCUAUGU', '(((....)))')\n",
    "rna_ss_validator('GCAUCUAUGU', '(.(....).)')\n",
    "```\n",
    "\n",
    "Returns `False`:\n",
    "```python\n",
    "rna_ss_validator('GCAUCUACGC', '(((....)))')\n",
    "rna_ss_validator('GCAUCUAUGU', '(((....)))', wobble=False)\n",
    "rna_ss_validator('GCAUCUAUGU', '(.(....)).')\n",
    "rna_ss_validator('GCCCUUGGCA', '(.((..))).')\n",
    "```"
   ],
   "metadata": {}
  },
  {
   "cell_type": "code",
   "execution_count": 22,
   "source": [
    "def parens_checker(structure):\n",
    "#     if structure.count('(') == structure.count(')'):\n",
    "#         return True\n",
    "#     else: False\n",
    "    \n",
    "    return structure.count('(') == structure.count(')')"
   ],
   "outputs": [],
   "metadata": {}
  },
  {
   "cell_type": "code",
   "execution_count": 23,
   "source": [
    "print(parens_checker('(((..(((...)).))))'))\n",
    "print(parens_checker('(((..(((...)).)))'))"
   ],
   "outputs": [
    {
     "output_type": "stream",
     "name": "stdout",
     "text": [
      "True\n",
      "False\n"
     ]
    }
   ],
   "metadata": {}
  },
  {
   "cell_type": "code",
   "execution_count": 28,
   "source": [
    "def dotparen_to_bp(structure):\n",
    "    if not parens_checker(structure):\n",
    "        print(\"Improper input structure\")\n",
    "        return False\n",
    "    \n",
    "    open_params = []\n",
    "    bp = []\n",
    "    \n",
    "    for i, x in enumerate(structure):\n",
    "        if x == '(':\n",
    "            open_params.append(i)\n",
    "        elif x == ')':\n",
    "            if len(open_params) > 0:\n",
    "                bp.append((open_params.pop(), i))\n",
    "            else:\n",
    "                print('error in input structure')\n",
    "                return False\n",
    "    \n",
    "    return tuple(sorted(bp))"
   ],
   "outputs": [],
   "metadata": {}
  },
  {
   "cell_type": "code",
   "execution_count": 29,
   "source": [
    "# Good structure\n",
    "dotparen_to_bp('..(((...)))(((((....)))).)..')"
   ],
   "outputs": [
    {
     "output_type": "execute_result",
     "data": {
      "text/plain": [
       "((2, 10), (3, 9), (4, 8), (11, 25), (12, 23), (13, 22), (14, 21), (15, 20))"
      ]
     },
     "metadata": {},
     "execution_count": 29
    }
   ],
   "metadata": {}
  },
  {
   "cell_type": "code",
   "execution_count": 30,
   "source": [
    "dotparen_to_bp('(((..(((...)).))))')\n"
   ],
   "outputs": [
    {
     "output_type": "execute_result",
     "data": {
      "text/plain": [
       "((0, 17), (1, 16), (2, 15), (5, 14), (6, 12), (7, 11))"
      ]
     },
     "metadata": {},
     "execution_count": 30
    }
   ],
   "metadata": {}
  },
  {
   "cell_type": "code",
   "execution_count": 31,
   "source": [
    "dotparen_to_bp('((....)))(')"
   ],
   "outputs": [
    {
     "output_type": "stream",
     "name": "stdout",
     "text": [
      "error in input structure\n"
     ]
    },
    {
     "output_type": "execute_result",
     "data": {
      "text/plain": [
       "False"
      ]
     },
     "metadata": {},
     "execution_count": 31
    }
   ],
   "metadata": {}
  },
  {
   "cell_type": "code",
   "execution_count": 49,
   "source": [
    "dotparen_to_bp('())....))))')"
   ],
   "outputs": [
    {
     "output_type": "stream",
     "name": "stdout",
     "text": [
      "Improper input structure\n"
     ]
    },
    {
     "output_type": "execute_result",
     "data": {
      "text/plain": [
       "False"
      ]
     },
     "metadata": {},
     "execution_count": 49
    }
   ],
   "metadata": {}
  },
  {
   "cell_type": "code",
   "execution_count": 48,
   "source": [
    "import re\n",
    "def hairpin_checker(structure):\n",
    "    return (len(re.findall('\\.\\.\\.', structure)) != 0)"
   ],
   "outputs": [],
   "metadata": {}
  },
  {
   "cell_type": "code",
   "execution_count": 52,
   "source": [
    "def rna_ss_validator(seq, sec_struc, wobble=True):\n",
    "    base_pairs = dotparen_to_bp(sec_struc)\n",
    "    \n",
    "    if not base_pairs:\n",
    "        return False\n",
    "    \n",
    "    if not hairpin_checker(sec_struc):\n",
    "        print('hairpin too short')\n",
    "        return False\n",
    "    \n",
    "    if wobble:\n",
    "        valid_base_pairs = ('gc', 'cg', 'au', 'ua', 'gu', 'ug')\n",
    "    else:\n",
    "        valid_base_pairs = ('gc', 'cg', 'au', 'ua')\n",
    "    \n",
    "    for pair in base_pairs:\n",
    "        pair_str = (seq[pair[0]] + seq[pair[1]]).lower()\n",
    "        if pair_str not in valid_base_pairs:\n",
    "            print('invalid base pair')\n",
    "            return False\n",
    "        \n",
    "    return True\n"
   ],
   "outputs": [],
   "metadata": {}
  },
  {
   "cell_type": "code",
   "execution_count": 54,
   "source": [
    "#test code\n",
    "print(rna_ss_validator('GCAUCUAUGC', '(((....)))'))\n",
    "print(rna_ss_validator('GCAUCUAUGU', '(((....)))'))\n",
    "print(rna_ss_validator('GCAUCUAUGU', '(.(....).)'))\n",
    "print(rna_ss_validator('AUUGAUGCACGUGCAUCCCCAGCGGGUCCCGCGAGCUCACCCCCUUCCAAAAGCACCACGUGCCAGGCCUCGCCCCCGGAAGUAUACCUGUGAGCCAGA',\n",
    "                       '...(((((....)))))....((((...))))..((((((...(((((....((((...))))..(((...)))...))))).......))))))....'))\n",
    "\n",
    "print('\\n')\n",
    "print(rna_ss_validator('GCAUCUACGC', '(((....)))'), '\\n')\n",
    "print(rna_ss_validator('GCAUCUAUGU', '(((....)))', wobble=False), '\\n')\n",
    "print(rna_ss_validator('GCAUCUAUGU', '(.(....)).'), '\\n')\n",
    "print(rna_ss_validator('GCCCUUGGCA', '(.((..))).'),'\\n')\n",
    "print(rna_ss_validator('AUUGAUGCACGUGCAUCCCCAGCGGGUCCCGCGAGCCCACCCCCUUCCAAAAGCACCACGUGCCAGGCCUCGCCCCCGGAAGUAUACCUGUGAGCCAGA',\n",
    "                       '...(((((....)))))....((((...))))..((((((...(((((....((((...))))..(((...)))...))))).......))))))....'))"
   ],
   "outputs": [
    {
     "output_type": "stream",
     "name": "stdout",
     "text": [
      "True\n",
      "True\n",
      "True\n",
      "True\n",
      "\n",
      "\n",
      "invalid base pair\n",
      "False \n",
      "\n",
      "invalid base pair\n",
      "False \n",
      "\n",
      "invalid base pair\n",
      "False \n",
      "\n",
      "hairpin too short\n",
      "False \n",
      "\n",
      "invalid base pair\n",
      "False\n"
     ]
    }
   ],
   "metadata": {}
  },
  {
   "cell_type": "code",
   "execution_count": 55,
   "source": [
    "%load_ext watermark\n",
    "%watermark -v -p jupyterlab"
   ],
   "outputs": [
    {
     "output_type": "stream",
     "name": "stdout",
     "text": [
      "Python implementation: CPython\n",
      "Python version       : 3.8.11\n",
      "IPython version      : 7.27.0\n",
      "\n",
      "jupyterlab: 3.1.7\n",
      "\n"
     ]
    }
   ],
   "metadata": {}
  },
  {
   "cell_type": "code",
   "execution_count": null,
   "source": [],
   "outputs": [],
   "metadata": {}
  }
 ],
 "metadata": {
  "kernelspec": {
   "display_name": "bioenv",
   "language": "python",
   "name": "bioenv"
  },
  "language_info": {
   "codemirror_mode": {
    "name": "ipython",
    "version": 3
   },
   "file_extension": ".py",
   "mimetype": "text/x-python",
   "name": "python",
   "nbconvert_exporter": "python",
   "pygments_lexer": "ipython3",
   "version": "3.8.11"
  }
 },
 "nbformat": 4,
 "nbformat_minor": 5
}